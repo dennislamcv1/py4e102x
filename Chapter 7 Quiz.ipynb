{
 "cells": [
  {
   "cell_type": "markdown",
   "metadata": {},
   "source": [
    " 7.1 Write a program that prompts for a file name, then opens that file and reads through the file, and print the contents of the file in upper case. Use the file words.txt to produce the output below.\n",
    "\n",
    "You can download the sample data at http://www.py4e.com/code3/words.txt"
   ]
  },
  {
   "cell_type": "code",
   "execution_count": 5,
   "metadata": {},
   "outputs": [
    {
     "name": "stdout",
     "output_type": "stream",
     "text": [
      "Enter file name: words.txt\n",
      "WRITING PROGRAMS OR PROGRAMMING IS A VERY CREATIVE\n",
      "AND REWARDING ACTIVITY  YOU CAN WRITE PROGRAMS FOR\n",
      "MANY REASONS RANGING FROM MAKING YOUR LIVING TO SOLVING\n",
      "A DIFFICULT DATA ANALYSIS PROBLEM TO HAVING FUN TO HELPING\n",
      "SOMEONE ELSE SOLVE A PROBLEM  THIS BOOK ASSUMES THAT\n",
      "{\\EM EVERYONE} NEEDS TO KNOW HOW TO PROGRAM AND THAT ONCE\n",
      "YOU KNOW HOW TO PROGRAM, YOU WILL FIGURE OUT WHAT YOU WANT\n",
      "TO DO WITH YOUR NEWFOUND SKILLS\n",
      "\n",
      "WE ARE SURROUNDED IN OUR DAILY LIVES WITH COMPUTERS RANGING\n",
      "FROM LAPTOPS TO CELL PHONES  WE CAN THINK OF THESE COMPUTERS\n",
      "AS OUR PERSONAL ASSISTANTS WHO CAN TAKE CARE OF MANY THINGS\n",
      "ON OUR BEHALF  THE HARDWARE IN OUR CURRENT-DAY COMPUTERS\n",
      "IS ESSENTIALLY BUILT TO CONTINUOUSLY ASK US THE QUESTION\n",
      "WHAT WOULD YOU LIKE ME TO DO NEXT\n",
      "\n",
      "OUR COMPUTERS ARE FAST AND HAVE VASTS AMOUNTS OF MEMORY AND\n",
      "COULD BE VERY HELPFUL TO US IF WE ONLY KNEW THE LANGUAGE TO\n",
      "SPEAK TO EXPLAIN TO THE COMPUTER WHAT WE WOULD LIKE IT TO\n",
      "DO NEXT IF WE KNEW THIS LANGUAGE WE COULD TELL THE\n",
      "COMPUTER TO DO TASKS ON OUR BEHALF THAT WERE REPTITIVE\n",
      "INTERESTINGLY, THE KINDS OF THINGS COMPUTERS CAN DO BEST\n",
      "ARE OFTEN THE KINDS OF THINGS THAT WE HUMANS FIND BORING\n",
      "AND MIND-NUMBING\n"
     ]
    }
   ],
   "source": [
    "# Use words.txt as the file name\n",
    "fname = input(\"Enter file name: \")\n",
    "fh = open(fname)\n",
    "\n",
    "for line in fh:\n",
    "    line = line.rstrip()\n",
    "    print(line.upper())"
   ]
  },
  {
   "cell_type": "markdown",
   "metadata": {},
   "source": [
    "7.2 Write a program that prompts for a file name, then opens that file and reads through the file, looking for lines of the form: \n",
    "X-DSPAM-Confidence:    0.8475\n",
    "Count these lines and extract the floating point values from each of the lines and compute the average of those values and produce an output as shown below. Do not use the sum() function or a variable named sum in your solution.\n",
    "\n",
    "You can download the sample data at http://www.py4e.com/code3/mbox-short.txt when you are testing below enter mbox-short.txt as the file name."
   ]
  },
  {
   "cell_type": "code",
   "execution_count": 1,
   "metadata": {},
   "outputs": [
    {
     "name": "stdout",
     "output_type": "stream",
     "text": [
      "Enter file name: mbox-short.txt\n",
      "Average spam confidence: 0.8475\n",
      "Average spam confidence: 0.73265\n",
      "Average spam confidence: 0.7204666666666667\n",
      "Average spam confidence: 0.729475\n",
      "Average spam confidence: 0.7361\n",
      "Average spam confidence: 0.73935\n",
      "Average spam confidence: 0.7337571428571428\n",
      "Average spam confidence: 0.7372249999999999\n",
      "Average spam confidence: 0.7397666666666667\n",
      "Average spam confidence: 0.74184\n",
      "Average spam confidence: 0.7376636363636364\n",
      "Average spam confidence: 0.739575\n",
      "Average spam confidence: 0.7408307692307693\n",
      "Average spam confidence: 0.7422357142857143\n",
      "Average spam confidence: 0.7389666666666668\n",
      "Average spam confidence: 0.7400187500000002\n",
      "Average spam confidence: 0.7348764705882355\n",
      "Average spam confidence: 0.7326500000000001\n",
      "Average spam confidence: 0.7284473684210527\n",
      "Average spam confidence: 0.7270350000000001\n",
      "Average spam confidence: 0.7283857142857144\n",
      "Average spam confidence: 0.7268954545454547\n",
      "Average spam confidence: 0.7255478260869567\n",
      "Average spam confidence: 0.7268000000000002\n",
      "Average spam confidence: 0.7371120000000002\n",
      "Average spam confidence: 0.7414884615384617\n",
      "Average spam confidence: 0.7507185185185187\n",
      "Done\n"
     ]
    }
   ],
   "source": [
    "# Use the file name mbox-short.txt as the file name\n",
    "fname = input(\"Enter file name: \")\n",
    "\n",
    "count=0\n",
    "value = 0\n",
    "total=0\n",
    "\n",
    "fh = open(fname)\n",
    "for line in fh:\n",
    "    if not line.startswith(\"X-DSPAM-Confidence:\"): \n",
    "        continue\n",
    "    pos = line.find(':')\n",
    "    num = float(line[pos+1:])\n",
    "    total=total+num\n",
    "    count = count+1 \n",
    "    print(\"Average spam confidence:\", total/count)\n",
    "print(\"Done\")"
   ]
  },
  {
   "cell_type": "code",
   "execution_count": 4,
   "metadata": {},
   "outputs": [
    {
     "name": "stdout",
     "output_type": "stream",
     "text": [
      "Enter file name: mbox-short.txt\n",
      "Average spam confidence: 0.7507185185185187\n"
     ]
    }
   ],
   "source": [
    "# Use the file name mbox-short.txt as the file name\n",
    "fname = input(\"Enter file name: \")\n",
    "fh = open(fname)\n",
    "count = 0\n",
    "total = 0\n",
    "for line in fh:\n",
    "    if not line.startswith(\"X-DSPAM-Confidence:\") :     continue\n",
    "    count = count + 1\n",
    "   # print count\n",
    "    num = float(line[20:])\n",
    "    total +=num\n",
    "   # print total\n",
    "    average = total/count\n",
    "print(\"Average spam confidence:\", average)"
   ]
  },
  {
   "cell_type": "code",
   "execution_count": null,
   "metadata": {},
   "outputs": [],
   "source": []
  }
 ],
 "metadata": {
  "kernelspec": {
   "display_name": "Python 3",
   "language": "python",
   "name": "python3"
  },
  "language_info": {
   "codemirror_mode": {
    "name": "ipython",
    "version": 3
   },
   "file_extension": ".py",
   "mimetype": "text/x-python",
   "name": "python",
   "nbconvert_exporter": "python",
   "pygments_lexer": "ipython3",
   "version": "3.7.3"
  }
 },
 "nbformat": 4,
 "nbformat_minor": 2
}
